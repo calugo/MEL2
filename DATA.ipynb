{
 "cells": [
  {
   "cell_type": "code",
   "execution_count": 2,
   "metadata": {},
   "outputs": [
    {
     "name": "stdout",
     "output_type": "stream",
     "text": [
      "['MalvaAll-16.xlsx']\n"
     ]
    }
   ],
   "source": [
    "import pandas as pd\n",
    "import glob\n",
    "\n",
    "dtf=glob.glob(\"*.xlsx\")\n",
    "print(dtf)\n",
    "data=pd.read_excel(dtf[0], index_col=0)"
   ]
  },
  {
   "cell_type": "code",
   "execution_count": 3,
   "metadata": {},
   "outputs": [
    {
     "name": "stdout",
     "output_type": "stream",
     "text": [
      "['Individual', 'a. Fused Sepal W', 'b. Fused Sepal L', 'b. Free Sepal L', 'c. Calyx opening (inside)', 'Calyx W (outside)']\n",
      "['Individual', 'a. Fused Sepal W', 'b. Fused Sepal L', 'b. Free Sepal L', 'c. Calyx opening (inside)', 'Calyx W (outside)']\n",
      "Individual Individual\n",
      "a Fused Sepal W a-Fused-Sepal-W\n",
      "b Fused Sepal L b-Fused-Sepal-L\n",
      "b Free Sepal L b-Free-Sepal-L\n",
      "c Calyx opening (inside) c-Calyx-opening-(inside)\n",
      "Calyx W (outside) Calyx-W-(outside)\n"
     ]
    }
   ],
   "source": [
    "B=list(data.columns)\n",
    "BX=[B[0],B[20],B[21],B[24],B[25],B[26]]\n",
    "print(BX)\n",
    "BN=data[BX]\n",
    "BNK=list(BN)\n",
    "print(BNK)\n",
    "u=[]\n",
    "for j in BX:\n",
    "    j=j.replace(\".\",\"\")\n",
    "    k=j.replace(\" \",\"-\")\n",
    "    print(j,k)\n",
    "    u.append(k)\n",
    "BN.columns=u"
   ]
  },
  {
   "cell_type": "code",
   "execution_count": 4,
   "metadata": {},
   "outputs": [],
   "source": [
    "BN.to_json(\"CD.json\",orient='records')"
   ]
  },
  {
   "cell_type": "code",
   "execution_count": 5,
   "metadata": {},
   "outputs": [
    {
     "data": {
      "text/html": [
       "<div>\n",
       "<style scoped>\n",
       "    .dataframe tbody tr th:only-of-type {\n",
       "        vertical-align: middle;\n",
       "    }\n",
       "\n",
       "    .dataframe tbody tr th {\n",
       "        vertical-align: top;\n",
       "    }\n",
       "\n",
       "    .dataframe thead th {\n",
       "        text-align: right;\n",
       "    }\n",
       "</style>\n",
       "<table border=\"1\" class=\"dataframe\">\n",
       "  <thead>\n",
       "    <tr style=\"text-align: right;\">\n",
       "      <th></th>\n",
       "      <th>Individual</th>\n",
       "      <th>a-Fused-Sepal-W</th>\n",
       "      <th>b-Fused-Sepal-L</th>\n",
       "      <th>b-Free-Sepal-L</th>\n",
       "      <th>c-Calyx-opening-(inside)</th>\n",
       "      <th>Calyx-W-(outside)</th>\n",
       "    </tr>\n",
       "    <tr>\n",
       "      <th>Species</th>\n",
       "      <th></th>\n",
       "      <th></th>\n",
       "      <th></th>\n",
       "      <th></th>\n",
       "      <th></th>\n",
       "      <th></th>\n",
       "    </tr>\n",
       "  </thead>\n",
       "  <tbody>\n",
       "    <tr>\n",
       "      <th>Neglecta</th>\n",
       "      <td>N[att.xS]17L:</td>\n",
       "      <td>3.4</td>\n",
       "      <td>3.5</td>\n",
       "      <td>4.6</td>\n",
       "      <td>5.2</td>\n",
       "      <td>5.3</td>\n",
       "    </tr>\n",
       "    <tr>\n",
       "      <th>Neglecta</th>\n",
       "      <td>N[att.xS]17L:</td>\n",
       "      <td>3.4</td>\n",
       "      <td>3.7</td>\n",
       "      <td>4.0</td>\n",
       "      <td>6.0</td>\n",
       "      <td>5.5</td>\n",
       "    </tr>\n",
       "    <tr>\n",
       "      <th>Neglecta</th>\n",
       "      <td>N[att.xS]17L:</td>\n",
       "      <td>2.7</td>\n",
       "      <td>3.7</td>\n",
       "      <td>4.1</td>\n",
       "      <td>4.7</td>\n",
       "      <td>4.6</td>\n",
       "    </tr>\n",
       "    <tr>\n",
       "      <th>Neglecta</th>\n",
       "      <td>N08L:HR01</td>\n",
       "      <td>2.5</td>\n",
       "      <td>3.0</td>\n",
       "      <td>3.0</td>\n",
       "      <td>4.0</td>\n",
       "      <td>4.4</td>\n",
       "    </tr>\n",
       "    <tr>\n",
       "      <th>Neglecta</th>\n",
       "      <td>N08L:HR02</td>\n",
       "      <td>3.0</td>\n",
       "      <td>2.9</td>\n",
       "      <td>3.1</td>\n",
       "      <td>4.4</td>\n",
       "      <td>3.5</td>\n",
       "    </tr>\n",
       "    <tr>\n",
       "      <th>...</th>\n",
       "      <td>...</td>\n",
       "      <td>...</td>\n",
       "      <td>...</td>\n",
       "      <td>...</td>\n",
       "      <td>...</td>\n",
       "      <td>...</td>\n",
       "    </tr>\n",
       "    <tr>\n",
       "      <th>Sylvestris</th>\n",
       "      <td>S09L:KC-</td>\n",
       "      <td>3.2</td>\n",
       "      <td>2.7</td>\n",
       "      <td>2.8</td>\n",
       "      <td>4.5</td>\n",
       "      <td>5.4</td>\n",
       "    </tr>\n",
       "    <tr>\n",
       "      <th>Sylvestris</th>\n",
       "      <td>S09L:KC01</td>\n",
       "      <td>3.9</td>\n",
       "      <td>3.9</td>\n",
       "      <td>2.8</td>\n",
       "      <td>6.0</td>\n",
       "      <td>6.5</td>\n",
       "    </tr>\n",
       "    <tr>\n",
       "      <th>Sylvestris</th>\n",
       "      <td>S19C:FC01</td>\n",
       "      <td>3.9</td>\n",
       "      <td>3.7</td>\n",
       "      <td>4.7</td>\n",
       "      <td>7.5</td>\n",
       "      <td>7.6</td>\n",
       "    </tr>\n",
       "    <tr>\n",
       "      <th>Sylvestris</th>\n",
       "      <td>S19C:FC02</td>\n",
       "      <td>3.7</td>\n",
       "      <td>3.6</td>\n",
       "      <td>2.5</td>\n",
       "      <td>5.5</td>\n",
       "      <td>7.3</td>\n",
       "    </tr>\n",
       "    <tr>\n",
       "      <th>Sylvestris</th>\n",
       "      <td>S19C:FC03</td>\n",
       "      <td>5.2</td>\n",
       "      <td>4.5</td>\n",
       "      <td>3.6</td>\n",
       "      <td>8.4</td>\n",
       "      <td>6.5</td>\n",
       "    </tr>\n",
       "  </tbody>\n",
       "</table>\n",
       "<p>99 rows × 6 columns</p>\n",
       "</div>"
      ],
      "text/plain": [
       "               Individual  a-Fused-Sepal-W  b-Fused-Sepal-L  b-Free-Sepal-L  \\\n",
       "Species                                                                       \n",
       "Neglecta    N[att.xS]17L:              3.4              3.5             4.6   \n",
       "Neglecta    N[att.xS]17L:              3.4              3.7             4.0   \n",
       "Neglecta    N[att.xS]17L:              2.7              3.7             4.1   \n",
       "Neglecta        N08L:HR01              2.5              3.0             3.0   \n",
       "Neglecta        N08L:HR02              3.0              2.9             3.1   \n",
       "...                   ...              ...              ...             ...   \n",
       "Sylvestris       S09L:KC-              3.2              2.7             2.8   \n",
       "Sylvestris      S09L:KC01              3.9              3.9             2.8   \n",
       "Sylvestris      S19C:FC01              3.9              3.7             4.7   \n",
       "Sylvestris      S19C:FC02              3.7              3.6             2.5   \n",
       "Sylvestris      S19C:FC03              5.2              4.5             3.6   \n",
       "\n",
       "            c-Calyx-opening-(inside)  Calyx-W-(outside)  \n",
       "Species                                                  \n",
       "Neglecta                         5.2                5.3  \n",
       "Neglecta                         6.0                5.5  \n",
       "Neglecta                         4.7                4.6  \n",
       "Neglecta                         4.0                4.4  \n",
       "Neglecta                         4.4                3.5  \n",
       "...                              ...                ...  \n",
       "Sylvestris                       4.5                5.4  \n",
       "Sylvestris                       6.0                6.5  \n",
       "Sylvestris                       7.5                7.6  \n",
       "Sylvestris                       5.5                7.3  \n",
       "Sylvestris                       8.4                6.5  \n",
       "\n",
       "[99 rows x 6 columns]"
      ]
     },
     "execution_count": 5,
     "metadata": {},
     "output_type": "execute_result"
    }
   ],
   "source": [
    "BN"
   ]
  },
  {
   "cell_type": "code",
   "execution_count": 9,
   "metadata": {},
   "outputs": [
    {
     "name": "stdout",
     "output_type": "stream",
     "text": [
      "1.2566370614359172\n",
      "Index(['Individual', 'a-Fused-Sepal-W', 'b-Fused-Sepal-L', 'b-Free-Sepal-L',\n",
      "       'c-Calyx-opening-(inside)', 'Calyx-W-(outside)'],\n",
      "      dtype='object')\n"
     ]
    }
   ],
   "source": [
    "import numpy as np\n",
    "phi=2*np.pi/5\n",
    "print(phi)\n",
    "z=BN.columns\n",
    "print(z)"
   ]
  },
  {
   "cell_type": "code",
   "execution_count": 12,
   "metadata": {},
   "outputs": [
    {
     "name": "stdout",
     "output_type": "stream",
     "text": [
      "5.6\n",
      "5.5\n",
      "4.456338406573069\n"
     ]
    }
   ],
   "source": [
    "print(max(BN[z[1]]))\n",
    "print(max(BN[z[2]]))\n",
    "print(max(BN[z[1]])/phi)"
   ]
  },
  {
   "cell_type": "code",
   "execution_count": null,
   "metadata": {},
   "outputs": [],
   "source": []
  }
 ],
 "metadata": {
  "kernelspec": {
   "display_name": "Python 3",
   "language": "python",
   "name": "python3"
  },
  "language_info": {
   "codemirror_mode": {
    "name": "ipython",
    "version": 3
   },
   "file_extension": ".py",
   "mimetype": "text/x-python",
   "name": "python",
   "nbconvert_exporter": "python",
   "pygments_lexer": "ipython3",
   "version": "3.7.4"
  }
 },
 "nbformat": 4,
 "nbformat_minor": 2
}
